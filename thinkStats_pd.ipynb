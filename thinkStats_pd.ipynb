{
 "cells": [
  {
   "cell_type": "code",
   "execution_count": 4,
   "metadata": {
    "collapsed": true
   },
   "outputs": [],
   "source": [
    "import pandas as pd\n",
    "import numpy as np\n",
    "import gzip"
   ]
  },
  {
   "cell_type": "code",
   "execution_count": 20,
   "metadata": {
    "collapsed": true
   },
   "outputs": [],
   "source": [
    "res = pd.read_table?"
   ]
  },
  {
   "cell_type": "code",
   "execution_count": 11,
   "metadata": {
    "collapsed": false
   },
   "outputs": [
    {
     "name": "stdout",
     "output_type": "stream",
     "text": [
      "<class 'pandas.core.frame.DataFrame'>\n",
      "RangeIndex: 13593 entries, 0 to 13592\n",
      "Data columns (total 10 columns):\n",
      "caseid         13593 non-null object\n",
      "nbrnaliv       9148 non-null object\n",
      "babysex        9144 non-null object\n",
      "birthwgt_lb    9144 non-null object\n",
      "birthwgt_oz    9087 non-null object\n",
      "prglength      13593 non-null object\n",
      "outcome        13593 non-null object\n",
      "birthord       9148 non-null object\n",
      "agepreg        13241 non-null object\n",
      "finalwgt       13593 non-null object\n",
      "dtypes: object(10)\n",
      "memory usage: 531.0+ KB\n"
     ]
    }
   ],
   "source": [
    "res_file = gzip.open('2002FemResp.dat.gz')\n",
    "\n",
    "res_raw = pd.read_table(res_file,header=None,names = ['Record'],na_values = np.nan)\n",
    "res['caseid']=res_raw['Record'].str[0:12]\n",
    "res_file.close()\n",
    "\n",
    "preg_file= gzip.open('2002FemPreg.dat.gz')\n",
    "preg_raw = pd.read_table(preg_file, header=None,names=['Record'],na_values = np.nan)\n",
    "\n",
    "\n",
    "\n",
    "columns_list = [\n",
    "            ('caseid', 1, 12, int),\n",
    "            ('nbrnaliv', 22, 22, int),\n",
    "            ('babysex', 56, 56, int),\n",
    "            ('birthwgt_lb', 57, 58, int),\n",
    "            ('birthwgt_oz', 59, 60, int),\n",
    "            ('prglength', 275, 276, int),\n",
    "            ('outcome', 277, 277, int),\n",
    "            ('birthord', 278, 279, int),\n",
    "            ('agepreg', 284, 287, int),\n",
    "            ('finalwgt', 423, 440, float),\n",
    "            ]\n",
    "preg = pd.DataFrame(None)\n",
    "def create_preg_columns(columns):\n",
    "    preg[columns[0]]=preg_raw['Record'].str[int(columns[1])-1:int(columns[2])]\n",
    "    preg.replace(r'^\\s*$', np.nan, inplace=True,regex=True)\n",
    "\n",
    "    \n",
    "map(create_preg_columns,columns_list)\n",
    "preg.info()\n",
    "\n"
   ]
  },
  {
   "cell_type": "markdown",
   "metadata": {},
   "source": [
    "### first.py"
   ]
  },
  {
   "cell_type": "code",
   "execution_count": 23,
   "metadata": {
    "collapsed": false
   },
   "outputs": [
    {
     "name": "stdout",
     "output_type": "stream",
     "text": [
      "Total number of live births are: 9148\n",
      "Total number of live births for first babies are: 4413\n",
      "Total number of live births for non first babies are: 4735\n",
      "Average pregency length(in weeks) for first babies are: 38.6009517335\n",
      "Average pregency length(in weeks) for non first babies are: 38.5229144667\n",
      "Difference between the groups are: 0.0780372667775\n"
     ]
    }
   ],
   "source": [
    "### Count number of live births\n",
    "preg['outcome']=preg['outcome'].astype(int)\n",
    "live_birth = preg[preg['outcome']==1]['outcome'].count()\n",
    "print(\"Total number of live births are: %s\" %(live_birth))\n",
    "\n",
    "### Count number of live births for first babies and others\n",
    "preg['birthord']=preg['birthord'].astype(float)\n",
    "first_babies = preg[(preg['outcome']==1)&(preg['birthord']==1)]\n",
    "live_birth1 = first_babies['outcome'].count()\n",
    "non_first_babies = preg[(preg['outcome']==1)&(preg['birthord']<>1)]\n",
    "live_birth2 = non_first_babies['outcome'].count()\n",
    "print(\"Total number of live births for first babies are: %s\" %(live_birth1))\n",
    "print(\"Total number of live births for non first babies are: %s\" %(live_birth2))\n",
    "\n",
    "### Compute average pregnancy length\n",
    "preg_length1 = first_babies['prglength'].astype(float).mean()\n",
    "preg_length2 = non_first_babies['prglength'].astype(float).mean()\n",
    "print(\"Average pregency length(in weeks) for first babies are: %s\" %(preg_length1))\n",
    "print(\"Average pregency length(in weeks) for non first babies are: %s\" %(preg_length2))\n",
    "diff = abs(preg_length2 -preg_length1)\n",
    "print (\"Difference between the groups are: %s\"%(diff))"
   ]
  },
  {
   "cell_type": "code",
   "execution_count": null,
   "metadata": {
    "collapsed": true
   },
   "outputs": [],
   "source": []
  }
 ],
 "metadata": {
  "kernelspec": {
   "display_name": "Python 2",
   "language": "python",
   "name": "python2"
  },
  "language_info": {
   "codemirror_mode": {
    "name": "ipython",
    "version": 2
   },
   "file_extension": ".py",
   "mimetype": "text/x-python",
   "name": "python",
   "nbconvert_exporter": "python",
   "pygments_lexer": "ipython2",
   "version": "2.7.13"
  }
 },
 "nbformat": 4,
 "nbformat_minor": 2
}
